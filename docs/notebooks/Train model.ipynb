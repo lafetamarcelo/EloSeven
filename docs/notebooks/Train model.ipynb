{
 "cells": [
  {
   "cell_type": "markdown",
   "metadata": {},
   "source": [
    "# Acquiring the data"
   ]
  },
  {
   "cell_type": "code",
   "execution_count": 1,
   "metadata": {},
   "outputs": [],
   "source": [
    "from src.client import ConfigClient, DataClient\n",
    "\n",
    "# Build configurations\n",
    "configs = ConfigClient([\"config\"]).build()\n",
    "\n",
    "# Get a data client\n",
    "client = DataClient(configs=configs)"
   ]
  },
  {
   "cell_type": "code",
   "execution_count": 2,
   "metadata": {},
   "outputs": [
    {
     "data": {
      "text/html": [
       "<div>\n",
       "<style scoped>\n",
       "    .dataframe tbody tr th:only-of-type {\n",
       "        vertical-align: middle;\n",
       "    }\n",
       "\n",
       "    .dataframe tbody tr th {\n",
       "        vertical-align: top;\n",
       "    }\n",
       "\n",
       "    .dataframe thead th {\n",
       "        text-align: right;\n",
       "    }\n",
       "</style>\n",
       "<table border=\"1\" class=\"dataframe\">\n",
       "  <thead>\n",
       "    <tr style=\"text-align: right;\">\n",
       "      <th></th>\n",
       "      <th>product_id</th>\n",
       "      <th>seller_id</th>\n",
       "      <th>query</th>\n",
       "      <th>search_page</th>\n",
       "      <th>position</th>\n",
       "      <th>title</th>\n",
       "      <th>concatenated_tags</th>\n",
       "      <th>creation_date</th>\n",
       "      <th>price</th>\n",
       "      <th>weight</th>\n",
       "      <th>express_delivery</th>\n",
       "      <th>minimum_quantity</th>\n",
       "      <th>view_counts</th>\n",
       "      <th>order_counts</th>\n",
       "      <th>category</th>\n",
       "    </tr>\n",
       "  </thead>\n",
       "  <tbody>\n",
       "    <tr>\n",
       "      <th>0</th>\n",
       "      <td>11394449</td>\n",
       "      <td>8324141</td>\n",
       "      <td>espirito santo</td>\n",
       "      <td>2</td>\n",
       "      <td>6</td>\n",
       "      <td>Mandala Espírito Santo</td>\n",
       "      <td>mandala mdf</td>\n",
       "      <td>2015-11-14 19:42:12</td>\n",
       "      <td>171.890000</td>\n",
       "      <td>1200.0</td>\n",
       "      <td>1</td>\n",
       "      <td>4</td>\n",
       "      <td>244</td>\n",
       "      <td>NaN</td>\n",
       "      <td>Decoração</td>\n",
       "    </tr>\n",
       "    <tr>\n",
       "      <th>1</th>\n",
       "      <td>15534262</td>\n",
       "      <td>6939286</td>\n",
       "      <td>cartao de visita</td>\n",
       "      <td>2</td>\n",
       "      <td>0</td>\n",
       "      <td>Cartão de Visita</td>\n",
       "      <td>cartao visita panfletos tag adesivos copos lon...</td>\n",
       "      <td>2018-04-04 20:55:07</td>\n",
       "      <td>77.670000</td>\n",
       "      <td>8.0</td>\n",
       "      <td>1</td>\n",
       "      <td>5</td>\n",
       "      <td>124</td>\n",
       "      <td>NaN</td>\n",
       "      <td>Papel e Cia</td>\n",
       "    </tr>\n",
       "    <tr>\n",
       "      <th>2</th>\n",
       "      <td>16153119</td>\n",
       "      <td>9835835</td>\n",
       "      <td>expositor de esmaltes</td>\n",
       "      <td>1</td>\n",
       "      <td>38</td>\n",
       "      <td>Organizador expositor p/ 70 esmaltes</td>\n",
       "      <td>expositor</td>\n",
       "      <td>2018-10-13 20:57:07</td>\n",
       "      <td>73.920006</td>\n",
       "      <td>2709.0</td>\n",
       "      <td>1</td>\n",
       "      <td>1</td>\n",
       "      <td>59</td>\n",
       "      <td>NaN</td>\n",
       "      <td>Outros</td>\n",
       "    </tr>\n",
       "    <tr>\n",
       "      <th>3</th>\n",
       "      <td>15877252</td>\n",
       "      <td>8071206</td>\n",
       "      <td>medidas lencol para berco americano</td>\n",
       "      <td>1</td>\n",
       "      <td>6</td>\n",
       "      <td>Jogo de Lençol Berço Estampado</td>\n",
       "      <td>t jogo lencol menino lencol berco</td>\n",
       "      <td>2017-02-27 13:26:03</td>\n",
       "      <td>118.770004</td>\n",
       "      <td>0.0</td>\n",
       "      <td>1</td>\n",
       "      <td>1</td>\n",
       "      <td>180</td>\n",
       "      <td>1.0</td>\n",
       "      <td>Bebê</td>\n",
       "    </tr>\n",
       "    <tr>\n",
       "      <th>4</th>\n",
       "      <td>15917108</td>\n",
       "      <td>7200773</td>\n",
       "      <td>adesivo box banheiro</td>\n",
       "      <td>3</td>\n",
       "      <td>38</td>\n",
       "      <td>ADESIVO BOX DE BANHEIRO</td>\n",
       "      <td>adesivo box banheiro</td>\n",
       "      <td>2017-05-09 13:18:38</td>\n",
       "      <td>191.810000</td>\n",
       "      <td>507.0</td>\n",
       "      <td>1</td>\n",
       "      <td>6</td>\n",
       "      <td>34</td>\n",
       "      <td>NaN</td>\n",
       "      <td>Decoração</td>\n",
       "    </tr>\n",
       "  </tbody>\n",
       "</table>\n",
       "</div>"
      ],
      "text/plain": [
       "   product_id  seller_id                                query  search_page  \\\n",
       "0    11394449    8324141                       espirito santo            2   \n",
       "1    15534262    6939286                     cartao de visita            2   \n",
       "2    16153119    9835835                expositor de esmaltes            1   \n",
       "3    15877252    8071206  medidas lencol para berco americano            1   \n",
       "4    15917108    7200773                 adesivo box banheiro            3   \n",
       "\n",
       "   position                                 title  \\\n",
       "0         6                Mandala Espírito Santo   \n",
       "1         0                      Cartão de Visita   \n",
       "2        38  Organizador expositor p/ 70 esmaltes   \n",
       "3         6        Jogo de Lençol Berço Estampado   \n",
       "4        38               ADESIVO BOX DE BANHEIRO   \n",
       "\n",
       "                                   concatenated_tags       creation_date  \\\n",
       "0                                        mandala mdf 2015-11-14 19:42:12   \n",
       "1  cartao visita panfletos tag adesivos copos lon... 2018-04-04 20:55:07   \n",
       "2                                          expositor 2018-10-13 20:57:07   \n",
       "3                  t jogo lencol menino lencol berco 2017-02-27 13:26:03   \n",
       "4                               adesivo box banheiro 2017-05-09 13:18:38   \n",
       "\n",
       "        price  weight  express_delivery  minimum_quantity  view_counts  \\\n",
       "0  171.890000  1200.0                 1                 4          244   \n",
       "1   77.670000     8.0                 1                 5          124   \n",
       "2   73.920006  2709.0                 1                 1           59   \n",
       "3  118.770004     0.0                 1                 1          180   \n",
       "4  191.810000   507.0                 1                 6           34   \n",
       "\n",
       "   order_counts     category  \n",
       "0           NaN    Decoração  \n",
       "1           NaN  Papel e Cia  \n",
       "2           NaN       Outros  \n",
       "3           1.0         Bebê  \n",
       "4           NaN    Decoração  "
      ]
     },
     "execution_count": 2,
     "metadata": {},
     "output_type": "execute_result"
    }
   ],
   "source": [
    "import pandas as pd\n",
    "from datetime import datetime\n",
    "\n",
    "# Get the products data\n",
    "products_df = client.products_df\n",
    "products_df.head()"
   ]
  },
  {
   "cell_type": "markdown",
   "metadata": {},
   "source": [
    "# Processing data"
   ]
  },
  {
   "cell_type": "code",
   "execution_count": 3,
   "metadata": {},
   "outputs": [],
   "source": [
    "# Feature and label columns\n",
    "label_col = 'category'\n",
    "feature_cols = products_df.columns.tolist()\n",
    "feature_cols.remove(label_col)\n",
    "\n",
    "# Build label and features dataframes\n",
    "labels, features = products_df[label_col], products_df[feature_cols]"
   ]
  },
  {
   "cell_type": "code",
   "execution_count": 4,
   "metadata": {},
   "outputs": [],
   "source": [
    "from sklearn.model_selection import train_test_split\n",
    "\n",
    "# Segregate train and test data\n",
    "X_train, X_test, y_train, y_test = train_test_split(\n",
    "    features, labels, test_size=0.3, random_state=30, stratify=labels)"
   ]
  },
  {
   "cell_type": "markdown",
   "metadata": {},
   "source": [
    "## Process features"
   ]
  },
  {
   "cell_type": "code",
   "execution_count": 5,
   "metadata": {},
   "outputs": [],
   "source": [
    "from src.pipe.base import (TextProcessing, \n",
    "                           DateProcessing, \n",
    "                           OverallProcessing)\n",
    "from sklearn.pipeline import Pipeline\n",
    "from sklearn.feature_extraction.text import CountVectorizer\n",
    "from sklearn.preprocessing import StandardScaler\n",
    "from sklearn.decomposition import PCA\n",
    "\n",
    "# Creating the data processing pipeline\n",
    "pipe = Pipeline([\n",
    "    (\"text_processing\", TextProcessing()),\n",
    "    (\"date_processing\", DateProcessing()),\n",
    "    (\"overall_processing\", OverallProcessing()),\n",
    "    (\"dimension_reduction\", PCA(n_components=250)),\n",
    "    (\"starndarization\", StandardScaler()),\n",
    "], verbose=True)"
   ]
  },
  {
   "cell_type": "code",
   "execution_count": 6,
   "metadata": {},
   "outputs": [
    {
     "name": "stdout",
     "output_type": "stream",
     "text": [
      "[Pipeline] ... (step 1 of 5) Processing text_processing, total=   9.0s\n",
      "[Pipeline] ... (step 2 of 5) Processing date_processing, total=   3.7s\n",
      "[Pipeline]  (step 3 of 5) Processing overall_processing, total=   0.8s\n",
      "[Pipeline]  (step 4 of 5) Processing dimension_reduction, total= 1.2min\n",
      "[Pipeline] ... (step 5 of 5) Processing starndarization, total=   0.1s\n"
     ]
    }
   ],
   "source": [
    "X_ = pipe.fit_transform(X_train.copy())"
   ]
  },
  {
   "cell_type": "markdown",
   "metadata": {},
   "source": [
    "## Processing labels"
   ]
  },
  {
   "cell_type": "code",
   "execution_count": 7,
   "metadata": {},
   "outputs": [],
   "source": [
    "from sklearn.preprocessing import LabelEncoder\n",
    "\n",
    "le = LabelEncoder()\n",
    "y_ = le.fit_transform(y_train)"
   ]
  },
  {
   "cell_type": "markdown",
   "metadata": {},
   "source": [
    "## Resample data"
   ]
  },
  {
   "cell_type": "code",
   "execution_count": 8,
   "metadata": {},
   "outputs": [],
   "source": [
    "from imblearn.over_sampling import SMOTE\n",
    "\n",
    "X_res, y_res = SMOTE().fit_resample(X_, y_)"
   ]
  },
  {
   "cell_type": "markdown",
   "metadata": {},
   "source": [
    "# Train model"
   ]
  },
  {
   "cell_type": "code",
   "execution_count": 9,
   "metadata": {},
   "outputs": [
    {
     "name": "stdout",
     "output_type": "stream",
     "text": [
      "Training time: 257.01 seconds\n"
     ]
    }
   ],
   "source": [
    "import timeit\n",
    "from sklearn.ensemble import RandomForestClassifier\n",
    "\n",
    "tic = timeit.default_timer()\n",
    "clf = RandomForestClassifier(\n",
    "    n_estimators=300,\n",
    "    max_depth=15\n",
    ")\n",
    "\n",
    "clf.fit(X_res, y_res)\n",
    "\n",
    "toc = timeit.default_timer()\n",
    "print(f\"Training time: {round(toc - tic, 2)} seconds\")"
   ]
  },
  {
   "cell_type": "markdown",
   "metadata": {},
   "source": [
    "# Testing model"
   ]
  },
  {
   "cell_type": "code",
   "execution_count": 10,
   "metadata": {},
   "outputs": [],
   "source": [
    "# Encode testing labels\n",
    "y_proc_test = le.transform(y_test)\n",
    "\n",
    "# Process testing data\n",
    "X_proc_test = pipe.transform(X_test.copy())\n",
    "\n",
    "# Predict output data\n",
    "y_hat = clf.predict(X_proc_test)"
   ]
  },
  {
   "cell_type": "code",
   "execution_count": 12,
   "metadata": {},
   "outputs": [
    {
     "data": {
      "image/png": "[encoded data removed]",
      "text/plain": [
       "<Figure size 432x288 with 2 Axes>"
      ]
     },
     "metadata": {
      "needs_background": "light"
     },
     "output_type": "display_data"
    }
   ],
   "source": [
    "from sklearn.metrics import confusion_matrix\n",
    "from sklearn.metrics import ConfusionMatrixDisplay\n",
    "\n",
    "cmat = confusion_matrix(y_proc_test, y_hat, normalize='true')\n",
    "cm_display = ConfusionMatrixDisplay(cmat, display_labels=le.inverse_transform(clf.classes_)).plot()"
   ]
  },
  {
   "cell_type": "markdown",
   "metadata": {},
   "source": [
    "# Exporting data"
   ]
  },
  {
   "cell_type": "code",
   "execution_count": 12,
   "metadata": {},
   "outputs": [
    {
     "data": {
      "text/plain": [
       "['./data/models/model.joblib']"
      ]
     },
     "execution_count": 12,
     "metadata": {},
     "output_type": "execute_result"
    }
   ],
   "source": [
    "import joblib \n",
    "\n",
    "joblib.dump(pipe, \"./data/models/pipeline.joblib\")\n",
    "joblib.dump(le, \"./data/models/label_encoder.joblib\")\n",
    "joblib.dump(clf, \"./data/models/model.joblib\")"
   ]
  }
 ],
 "metadata": {
  "kernelspec": {
   "display_name": "Python 3",
   "language": "python",
   "name": "python3"
  },
  "language_info": {
   "codemirror_mode": {
    "name": "ipython",
    "version": 3
   },
   "file_extension": ".py",
   "mimetype": "text/x-python",
   "name": "python",
   "nbconvert_exporter": "python",
   "pygments_lexer": "ipython3",
   "version": "3.9.1"
  }
 },
 "nbformat": 4,
 "nbformat_minor": 4
}
